{
 "cells": [
  {
   "cell_type": "code",
   "execution_count": 2,
   "metadata": {},
   "outputs": [],
   "source": [
    "import numpy as np\n",
    "from sklearn.metrics.cluster import normalized_mutual_info_score\n",
    "from sklearn.metrics import mutual_info_score"
   ]
  },
  {
   "cell_type": "markdown",
   "metadata": {},
   "source": [
    "1. Implementa tu propia version de Purity. Tu funcion debera recibir de entradados listas del mismo tamano; la primera con la clase de las instancias, la segunda con el agrupamiento que se desea evaluar."
   ]
  },
  {
   "cell_type": "code",
   "execution_count": 3,
   "metadata": {},
   "outputs": [],
   "source": [
    "def elementsdict(A):\n",
    "    el = {}\n",
    "    for i in range( len(A) ):\n",
    "        if( A[i] in el ):\n",
    "            el[A[i]].append(i)\n",
    "        else:\n",
    "            el[A[i]] = [i]\n",
    "    return el"
   ]
  },
  {
   "cell_type": "code",
   "execution_count": 4,
   "metadata": {},
   "outputs": [],
   "source": [
    "def Purity(C, O):\n",
    "    n = float(len(C))\n",
    "    p = 0.\n",
    "    eC = elementsdict(C)\n",
    "    eO = elementsdict(O)\n",
    "    M = np.zeros((len(eC),len(eO)))\n",
    "    i=0\n",
    "    for c in eC:\n",
    "        j=0\n",
    "        for o in eO:\n",
    "            intersect = len( np.intersect1d( eC[c], eO[o] ) )\n",
    "            M[i,j] = intersect\n",
    "            j+=1\n",
    "        i+=1\n",
    "    maxint = [ max(M[:,i]) for i in range(len(M)) ]\n",
    "    p = sum(maxint)\n",
    "    return p/n"
   ]
  },
  {
   "cell_type": "code",
   "execution_count": 5,
   "metadata": {},
   "outputs": [
    {
     "name": "stdout",
     "output_type": "stream",
     "text": [
      "0.95\n",
      "0.5\n",
      "0.45\n",
      "1.0\n"
     ]
    }
   ],
   "source": [
    "C = np.array([0, 2, 0, 2, 1, 2, 1, 0, 1, 0, 2, 1, 1, 0, 1, 0, 1, 1, 2, 1])\n",
    "A = np.array([0, 0, 1, 0, 2, 0, 2, 1, 2, 1, 0, 2, 2, 1, 2, 1, 2, 2, 0, 2])\n",
    "B = np.array(['C', 'B', 'A', 'B', 'B', 'B', 'B', 'B', 'A', 'B', 'B', 'B', 'A', 'C', 'C', 'C', 'B', 'A', 'A', 'C'] )\n",
    "print( Purity(C, A) )\n",
    "print( Purity(C, B) )\n",
    "print( Purity(A, B) )\n",
    "print( Purity(C, C) )"
   ]
  },
  {
   "cell_type": "markdown",
   "metadata": {},
   "source": [
    "2. Implementa tu propia version de Rand Index. Tu funcion debera recibir de entrada dos listas del mismo tamano; la primera con la clase de las instancias, la segunda con el agrupamiento que se desea evaluar."
   ]
  },
  {
   "cell_type": "code",
   "execution_count": 6,
   "metadata": {},
   "outputs": [],
   "source": [
    "def RandIndex(C, O):\n",
    "    ri = 0; n = len(C)\n",
    "    eC = elementsdict(C); eO = elementsdict(O)\n",
    "    for i in range(n):\n",
    "        for j in range(i+1,n):\n",
    "            juntosC = False; juntosO = False;\n",
    "            for k,c in eC.items():\n",
    "                if( (i in c) and (j in c) ):\n",
    "                    juntosC = True\n",
    "                    break\n",
    "                elif( (i in c) and not(j in c) ):\n",
    "                    break\n",
    "                elif( not(i in c) and (j in c) ):\n",
    "                    break\n",
    "            for k,o in eO.items():\n",
    "                if( (i in o) and (j in o) ):\n",
    "                    juntosO = True\n",
    "                    break\n",
    "                elif( (i in o) and not(j in o) ):\n",
    "                    break\n",
    "                elif( not(i in o) and (j in o) ):\n",
    "                    break\n",
    "            if(juntosC == juntosO):\n",
    "                ri+=1\n",
    "    return ri/(n*(n-1)/2)\n"
   ]
  },
  {
   "cell_type": "code",
   "execution_count": 12,
   "metadata": {},
   "outputs": [
    {
     "name": "stdout",
     "output_type": "stream",
     "text": [
      "0.6666666666666666\n",
      "0.6666666666666666\n",
      "1.0\n"
     ]
    }
   ],
   "source": [
    "#C = [0,2,0,2,1,2,1]\n",
    "#A = ['C','B','A','B','B','B','B']\n",
    "print( RandIndex(C, A) )\n",
    "print( RandIndex(C, B) )\n",
    "print( RandIndex(A, B) )"
   ]
  },
  {
   "cell_type": "markdown",
   "metadata": {},
   "source": [
    "3. Implementa tu propia version de Normalized Mutual Information. Tu función debera recibir de entrada dos listas del mismo tamaño; la primera con la clase de las instancias, la segunda con el agrupamiento que se desea evaluar. Para esta funcion te podrıa convenir pensar en funciones auxiliares (¿quiza una que ́solo calcule la entropıa?)."
   ]
  },
  {
   "cell_type": "code",
   "execution_count": 8,
   "metadata": {},
   "outputs": [],
   "source": [
    "def H(A,n):\n",
    "    h = 0\n",
    "    print(A,n)\n",
    "    for k,v in A.items():\n",
    "        p = len(v)/n\n",
    "        print(len(v))\n",
    "        h += p*np.log2(p)\n",
    "    return -h"
   ]
  },
  {
   "cell_type": "code",
   "execution_count": 9,
   "metadata": {},
   "outputs": [],
   "source": [
    "def I(O,C,n):\n",
    "    i = 0\n",
    "    for c1,c in C.items():\n",
    "        for c2,o in O.items():\n",
    "            p = len(np.intersect1d(c,o))/n\n",
    "            if(p != 0):\n",
    "                i += p * np.log2( n*(len(np.intersect1d(c,o)))/len(c)*len(o)  )\n",
    "    return i"
   ]
  },
  {
   "cell_type": "code",
   "execution_count": 10,
   "metadata": {},
   "outputs": [],
   "source": [
    "def NMI(O, C):\n",
    "    n = len(C)\n",
    "    eC = elementsdict(C); eO = elementsdict(O)\n",
    "    #nmi = I(eO,eC,n) / ( ( H(eO,n*2) + H(eC,n*2) ) /2)\n",
    "    nmi =  mutual_info_score(C,O) / ( ( H(eO,n) + H(eC,n) ) /2)\n",
    "    return nmi"
   ]
  },
  {
   "cell_type": "code",
   "execution_count": 11,
   "metadata": {},
   "outputs": [
    {
     "name": "stdout",
     "output_type": "stream",
     "text": [
      "{'C': [0], 'B': [1, 3, 4, 5, 6], 'A': [2]} 3\n",
      "1\n",
      "5\n",
      "1\n",
      "-0.17163432312957294 0.7963116401738131\n"
     ]
    }
   ],
   "source": [
    "print(H(elementsdict(A),3),mutual_info_score(A,A))"
   ]
  },
  {
   "cell_type": "code",
   "execution_count": 127,
   "metadata": {},
   "outputs": [
    {
     "name": "stdout",
     "output_type": "stream",
     "text": [
      "0.44226313402335016 0.6380508302234982\n"
     ]
    }
   ],
   "source": [
    "print(NMI(A, C),normalized_mutual_info_score(C,A))"
   ]
  },
  {
   "cell_type": "code",
   "execution_count": null,
   "metadata": {},
   "outputs": [],
   "source": [
    "Purity({'Grupo1':['n','v','r','r','r','r']},)"
   ]
  }
 ],
 "metadata": {
  "kernelspec": {
   "display_name": "Python 3",
   "language": "python",
   "name": "python3"
  },
  "language_info": {
   "codemirror_mode": {
    "name": "ipython",
    "version": 3
   },
   "file_extension": ".py",
   "mimetype": "text/x-python",
   "name": "python",
   "nbconvert_exporter": "python",
   "pygments_lexer": "ipython3",
   "version": "3.6.9"
  }
 },
 "nbformat": 4,
 "nbformat_minor": 4
}
